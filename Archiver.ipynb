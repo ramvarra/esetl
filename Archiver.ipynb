{
 "cells": [
  {
   "cell_type": "code",
   "execution_count": 2,
   "metadata": {
    "collapsed": true
   },
   "outputs": [],
   "source": [
    "import os, re, sys\n",
    "import elasticsearch"
   ]
  },
  {
   "cell_type": "code",
   "execution_count": 3,
   "metadata": {
    "collapsed": true
   },
   "outputs": [],
   "source": [
    "es = elasticsearch.Elasticsearch(hosts=\"http://192.168.1.141:9200\", timeout=240)"
   ]
  },
  {
   "cell_type": "code",
   "execution_count": 4,
   "metadata": {},
   "outputs": [
    {
     "data": {
      "text/plain": [
       "dict_keys(['.monitoring-es-6-2019.04.09', '.monitoring-es-6-2019.04.10', '.monitoring-es-6-2019.04.11', '.monitoring-es-6-2019.04.12', '.monitoring-es-6-2019.04.13', '.monitoring-es-6-2019.04.14', '.monitoring-es-6-2019.04.15', '.monitoring-es-6-2019.04.16', '.monitoring-kibana-6-2019.04.09', '.monitoring-kibana-6-2019.04.10', '.monitoring-kibana-6-2019.04.11', '.monitoring-kibana-6-2019.04.12', '.monitoring-kibana-6-2019.04.13', '.monitoring-kibana-6-2019.04.14', '.monitoring-kibana-6-2019.04.15', '.monitoring-kibana-6-2019.04.16', 'iislog-2019.01', 'iislog-2019.02', 'iislog-2019.03', 'iislog-2019.04', 'router_syslog-2019.00', 'router_syslog-2019.01', 'router_syslog-2019.02', 'router_syslog-2019.03', 'router_syslog-2019.04', 'router_syslog-2019.05', 'router_syslog-2019.06', 'router_syslog-2019.07', 'router_syslog-2019.08', 'router_syslog-2019.09', 'router_syslog-2019.10', 'router_syslog-2019.11', 'router_syslog-2019.12', 'router_syslog-2019.13', 'router_syslog-2019.14', 'routerlog-2019.00', 'routerlog-2019.01', 'routerlog-2019.02', 'routerlog-2019.03', 'routerlog-2019.04', 'routerlog-2019.05', 'routerlog-2019.06', 'routerlog-2019.07', 'routerlog-2019.08', 'routerlog-2019.09', 'routerlog-2019.10', 'routerlog-2019.11', 'routerlog-2019.12', 'routerlog-2019.13', 'routerlog-2019.14', 'routerlog-2019.15', 'tstat-2019.00', 'tstat-2019.01', 'tstat-2019.02', 'tstat-2019.03', 'tstat-2019.04', 'tstat-2019.05', 'tstat-2019.06', 'tstat-2019.07', 'tstat-2019.08', 'tstat-2019.09', 'tstat-2019.10', 'tstat-2019.11', 'tstat-2019.12', 'tstat-2019.13', 'tstat-2019.14', 'tstat-2019.15'])"
      ]
     },
     "execution_count": 4,
     "metadata": {},
     "output_type": "execute_result"
    }
   ],
   "source": [
    "ixs = es.indices.get('*2019.*').keys()\n",
    "ixs"
   ]
  },
  {
   "cell_type": "code",
   "execution_count": 5,
   "metadata": {},
   "outputs": [
    {
     "data": {
      "text/plain": [
       "{'index': {'creation_date': '1554706813333',\n",
       "  'number_of_replicas': '0',\n",
       "  'number_of_shards': '2',\n",
       "  'provided_name': 'tstat-2019.14',\n",
       "  'uuid': '0R1DDStwQQO6b2kWVu05Iw',\n",
       "  'version': {'created': '6040099'}}}"
      ]
     },
     "execution_count": 5,
     "metadata": {},
     "output_type": "execute_result"
    }
   ],
   "source": [
    "ix = 'tstat-2019.14'\n",
    "es.indices.get(ix)[ix]['settings']"
   ]
  },
  {
   "cell_type": "code",
   "execution_count": 6,
   "metadata": {},
   "outputs": [
    {
     "name": "stdout",
     "output_type": "stream",
     "text": [
      "Updating index: .monitoring-es-6-2019.04.09\n",
      ".monitoring-es-6-2019.04.09: blocks = {'codec': 'best_compression', 'number_of_shards': '1', 'auto_expand_replicas': '0-1', 'provided_name': '.monitoring-es-6-2019.04.09', 'format': '6', 'creation_date': '1554768003210', 'number_of_replicas': '0', 'uuid': 'rVUARwFwTPmz9ohMa7YQTg', 'version': {'created': '6040099'}}\n",
      "Updating index: .monitoring-es-6-2019.04.10\n",
      ".monitoring-es-6-2019.04.10: blocks = {'codec': 'best_compression', 'number_of_shards': '1', 'auto_expand_replicas': '0-1', 'provided_name': '.monitoring-es-6-2019.04.10', 'format': '6', 'creation_date': '1554854405049', 'number_of_replicas': '0', 'uuid': 'PRiQhrePRBOm_E0aAa8u6g', 'version': {'created': '6040099'}}\n",
      "Updating index: .monitoring-es-6-2019.04.11\n",
      ".monitoring-es-6-2019.04.11: blocks = {'codec': 'best_compression', 'number_of_shards': '1', 'auto_expand_replicas': '0-1', 'provided_name': '.monitoring-es-6-2019.04.11', 'format': '6', 'creation_date': '1554940806841', 'number_of_replicas': '0', 'uuid': 'zUWCCJrpSW64z4xBKUYwNA', 'version': {'created': '6040099'}}\n",
      "Updating index: .monitoring-es-6-2019.04.12\n",
      ".monitoring-es-6-2019.04.12: blocks = {'codec': 'best_compression', 'number_of_shards': '1', 'auto_expand_replicas': '0-1', 'provided_name': '.monitoring-es-6-2019.04.12', 'format': '6', 'creation_date': '1555027208726', 'number_of_replicas': '0', 'uuid': 'PftYOww-SbGqg0jAasbu3g', 'version': {'created': '6040099'}}\n",
      "Updating index: .monitoring-es-6-2019.04.13\n",
      ".monitoring-es-6-2019.04.13: blocks = {'codec': 'best_compression', 'number_of_shards': '1', 'auto_expand_replicas': '0-1', 'provided_name': '.monitoring-es-6-2019.04.13', 'format': '6', 'creation_date': '1555113600517', 'number_of_replicas': '0', 'uuid': 'xpk6tVJGQZie3c5gErhfbA', 'version': {'created': '6040099'}}\n",
      "Updating index: .monitoring-es-6-2019.04.14\n",
      ".monitoring-es-6-2019.04.14: blocks = {'codec': 'best_compression', 'number_of_shards': '1', 'auto_expand_replicas': '0-1', 'provided_name': '.monitoring-es-6-2019.04.14', 'format': '6', 'creation_date': '1555200002325', 'number_of_replicas': '0', 'uuid': '7-YvghXYS-C-4Dcnv21ugA', 'version': {'created': '6040099'}}\n",
      "Updating index: .monitoring-es-6-2019.04.15\n",
      ".monitoring-es-6-2019.04.15: blocks = {'codec': 'best_compression', 'number_of_shards': '1', 'auto_expand_replicas': '0-1', 'provided_name': '.monitoring-es-6-2019.04.15', 'format': '6', 'creation_date': '1555287951130', 'number_of_replicas': '0', 'uuid': 'Te_PVUvgTDKOQD1-upwfpA', 'version': {'created': '6040099'}}\n",
      "Updating index: .monitoring-es-6-2019.04.16\n",
      ".monitoring-es-6-2019.04.16: blocks = {'codec': 'best_compression', 'number_of_shards': '1', 'auto_expand_replicas': '0-1', 'provided_name': '.monitoring-es-6-2019.04.16', 'format': '6', 'creation_date': '1555372800621', 'number_of_replicas': '0', 'uuid': 'YoQFpdFoTambubJQBvVAhw', 'version': {'created': '6040099'}}\n",
      "Updating index: .monitoring-kibana-6-2019.04.09\n",
      ".monitoring-kibana-6-2019.04.09: blocks = {'codec': 'best_compression', 'number_of_shards': '1', 'auto_expand_replicas': '0-1', 'provided_name': '.monitoring-kibana-6-2019.04.09', 'format': '6', 'creation_date': '1554768004097', 'number_of_replicas': '0', 'uuid': 'n-xjFKDzTq-619odXZIulw', 'version': {'created': '6040099'}}\n",
      "Updating index: .monitoring-kibana-6-2019.04.10\n",
      ".monitoring-kibana-6-2019.04.10: blocks = {'codec': 'best_compression', 'number_of_shards': '1', 'auto_expand_replicas': '0-1', 'provided_name': '.monitoring-kibana-6-2019.04.10', 'format': '6', 'creation_date': '1554854400981', 'number_of_replicas': '0', 'uuid': 'AaEkJ-tRSJu8nKgwv0N8PQ', 'version': {'created': '6040099'}}\n",
      "Updating index: .monitoring-kibana-6-2019.04.11\n",
      ".monitoring-kibana-6-2019.04.11: blocks = {'codec': 'best_compression', 'number_of_shards': '1', 'auto_expand_replicas': '0-1', 'provided_name': '.monitoring-kibana-6-2019.04.11', 'format': '6', 'creation_date': '1554940807892', 'number_of_replicas': '0', 'uuid': 'CCgvQLEcQ0a77IkaCGKNIw', 'version': {'created': '6040099'}}\n",
      "Updating index: .monitoring-kibana-6-2019.04.12\n",
      ".monitoring-kibana-6-2019.04.12: blocks = {'codec': 'best_compression', 'number_of_shards': '1', 'auto_expand_replicas': '0-1', 'provided_name': '.monitoring-kibana-6-2019.04.12', 'format': '6', 'creation_date': '1555027204701', 'number_of_replicas': '0', 'uuid': 'k3udruIxSdm47va87Wcqog', 'version': {'created': '6040099'}}\n",
      "Updating index: .monitoring-kibana-6-2019.04.13\n",
      ".monitoring-kibana-6-2019.04.13: blocks = {'codec': 'best_compression', 'number_of_shards': '1', 'auto_expand_replicas': '0-1', 'provided_name': '.monitoring-kibana-6-2019.04.13', 'format': '6', 'creation_date': '1555113601415', 'number_of_replicas': '0', 'uuid': 'sw_PG2sjSQq-VmF9uduAIQ', 'version': {'created': '6040099'}}\n",
      "Updating index: .monitoring-kibana-6-2019.04.14\n",
      ".monitoring-kibana-6-2019.04.14: blocks = {'codec': 'best_compression', 'number_of_shards': '1', 'auto_expand_replicas': '0-1', 'provided_name': '.monitoring-kibana-6-2019.04.14', 'format': '6', 'creation_date': '1555200008105', 'number_of_replicas': '0', 'uuid': '5WHduz31Q_quEsTGHJ3GXg', 'version': {'created': '6040099'}}\n",
      "Updating index: .monitoring-kibana-6-2019.04.15\n",
      ".monitoring-kibana-6-2019.04.15: blocks = {'codec': 'best_compression', 'number_of_shards': '1', 'auto_expand_replicas': '0-1', 'provided_name': '.monitoring-kibana-6-2019.04.15', 'format': '6', 'creation_date': '1555287944872', 'number_of_replicas': '0', 'uuid': 'JcA1gqf7Sy-xv5ryZDN0Qw', 'version': {'created': '6040099'}}\n",
      "Updating index: .monitoring-kibana-6-2019.04.16\n",
      ".monitoring-kibana-6-2019.04.16: blocks = {'codec': 'best_compression', 'number_of_shards': '1', 'auto_expand_replicas': '0-1', 'provided_name': '.monitoring-kibana-6-2019.04.16', 'format': '6', 'creation_date': '1555372801736', 'number_of_replicas': '0', 'uuid': 'IrNP0MJUTtChpgzz96MakA', 'version': {'created': '6040099'}}\n",
      "Updating index: iislog-2019.01\n",
      "iislog-2019.01: blocks = {'creation_date': '1546367094754', 'number_of_shards': '2', 'number_of_replicas': '0', 'uuid': 'Ne1s7mFERbmRtW1s3OaEZg', 'version': {'created': '6040099'}, 'provided_name': 'iislog-2019.01'}\n",
      "Updating index: iislog-2019.02\n",
      "iislog-2019.02: blocks = {'creation_date': '1549028394516', 'number_of_shards': '2', 'number_of_replicas': '0', 'uuid': 'cXRqjpm7TdGeK4V87k9QNg', 'version': {'created': '6040099'}, 'provided_name': 'iislog-2019.02'}\n",
      "Updating index: iislog-2019.03\n",
      "iislog-2019.03: blocks = {'creation_date': '1555292234721', 'number_of_shards': '2', 'number_of_replicas': '0', 'uuid': 'gAXjPxXEQ-uy5rKnd-xeTA', 'version': {'created': '6040099'}, 'provided_name': 'iislog-2019.03'}\n",
      "Updating index: iislog-2019.04\n",
      "iislog-2019.04: blocks = {'creation_date': '1555292235842', 'number_of_shards': '2', 'number_of_replicas': '0', 'uuid': 'SyPIalsATHqihYH6D5ZCOA', 'version': {'created': '6040099'}, 'provided_name': 'iislog-2019.04'}\n",
      "Updating index: router_syslog-2019.00\n",
      "router_syslog-2019.00: blocks = {'creation_date': '1546412349699', 'number_of_shards': '2', 'number_of_replicas': '0', 'uuid': 'zBJ7pjqnRtmzGS1lgrGTQQ', 'version': {'created': '6040099'}, 'provided_name': 'router_syslog-2019.00'}\n",
      "Updating index: router_syslog-2019.01\n",
      "router_syslog-2019.01: blocks = {'creation_date': '1546930755747', 'number_of_shards': '2', 'number_of_replicas': '0', 'uuid': 'KKtWjljMRx-Yhvj2r_N5Bg', 'version': {'created': '6040099'}, 'provided_name': 'router_syslog-2019.01'}\n",
      "Updating index: router_syslog-2019.02\n",
      "router_syslog-2019.02: blocks = {'creation_date': '1547535597961', 'number_of_shards': '2', 'number_of_replicas': '0', 'uuid': '-8WbgCpkREy4XaTuCKuj4A', 'version': {'created': '6040099'}, 'provided_name': 'router_syslog-2019.02'}\n",
      "Updating index: router_syslog-2019.03\n",
      "router_syslog-2019.03: blocks = {'creation_date': '1548140380898', 'number_of_shards': '2', 'number_of_replicas': '0', 'uuid': 'xLSOW_HLT46AzkgJ0A4ZTA', 'version': {'created': '6040099'}, 'provided_name': 'router_syslog-2019.03'}\n",
      "Updating index: router_syslog-2019.04\n",
      "router_syslog-2019.04: blocks = {'creation_date': '1548745163399', 'number_of_shards': '2', 'number_of_replicas': '0', 'uuid': 'ek5nl4gYTnm8gYsRMTNAQA', 'version': {'created': '6040099'}, 'provided_name': 'router_syslog-2019.04'}\n",
      "Updating index: router_syslog-2019.05\n",
      "router_syslog-2019.05: blocks = {'creation_date': '1549349944168', 'number_of_shards': '2', 'number_of_replicas': '0', 'uuid': 'l6HnC5MDR1yFh7oxQj-VuA', 'version': {'created': '6040099'}, 'provided_name': 'router_syslog-2019.05'}\n",
      "Updating index: router_syslog-2019.06\n"
     ]
    },
    {
     "name": "stdout",
     "output_type": "stream",
     "text": [
      "router_syslog-2019.06: blocks = {'creation_date': '1549954785248', 'number_of_shards': '2', 'number_of_replicas': '0', 'uuid': 'GF8YRHZEQSyCQwD66M7FvQ', 'version': {'created': '6040099'}, 'provided_name': 'router_syslog-2019.06'}\n",
      "Updating index: router_syslog-2019.07\n",
      "router_syslog-2019.07: blocks = {'creation_date': '1550559568833', 'number_of_shards': '2', 'number_of_replicas': '0', 'uuid': 'Wmc6ssFET7OhLNDmF1TOrg', 'version': {'created': '6040099'}, 'provided_name': 'router_syslog-2019.07'}\n",
      "Updating index: router_syslog-2019.08\n",
      "router_syslog-2019.08: blocks = {'creation_date': '1551164352786', 'number_of_shards': '2', 'number_of_replicas': '0', 'uuid': 'EpaI_BqvTYC68ElbEFVzbQ', 'version': {'created': '6040099'}, 'provided_name': 'router_syslog-2019.08'}\n",
      "Updating index: router_syslog-2019.09\n",
      "router_syslog-2019.09: blocks = {'creation_date': '1551769191929', 'number_of_shards': '2', 'number_of_replicas': '0', 'uuid': '4nqE3jvdTW6D34R2y35UDw', 'version': {'created': '6040099'}, 'provided_name': 'router_syslog-2019.09'}\n",
      "Updating index: router_syslog-2019.10\n",
      "router_syslog-2019.10: blocks = {'creation_date': '1552373976025', 'number_of_shards': '2', 'number_of_replicas': '0', 'uuid': 'wpRe8wRTRmqwTxzKuNlwXg', 'version': {'created': '6040099'}, 'provided_name': 'router_syslog-2019.10'}\n",
      "Updating index: router_syslog-2019.11\n",
      "router_syslog-2019.11: blocks = {'creation_date': '1552978762965', 'number_of_shards': '2', 'number_of_replicas': '0', 'uuid': 't0g9URGRT1GbeA50g6vXow', 'version': {'created': '6040099'}, 'provided_name': 'router_syslog-2019.11'}\n",
      "Updating index: router_syslog-2019.12\n",
      "router_syslog-2019.12: blocks = {'creation_date': '1553583545916', 'number_of_shards': '2', 'number_of_replicas': '0', 'uuid': 'oCcZ6_wBTJm3RrTwUUwlaQ', 'version': {'created': '6040099'}, 'provided_name': 'router_syslog-2019.12'}\n",
      "Updating index: router_syslog-2019.13\n",
      "router_syslog-2019.13: blocks = {'creation_date': '1554188388231', 'number_of_shards': '2', 'number_of_replicas': '0', 'uuid': 'iGe3bRarTZWitC2E5Gu_xQ', 'version': {'created': '6040099'}, 'provided_name': 'router_syslog-2019.13'}\n",
      "Updating index: router_syslog-2019.14\n",
      "router_syslog-2019.14: blocks = {'creation_date': '1554793173758', 'number_of_shards': '2', 'number_of_replicas': '0', 'uuid': 'zx3CZf7VSOiggVscuJ1RxQ', 'version': {'created': '6040099'}, 'provided_name': 'router_syslog-2019.14'}\n",
      "Updating index: routerlog-2019.00\n",
      "routerlog-2019.00: blocks = {'creation_date': '1546326004177', 'number_of_shards': '2', 'number_of_replicas': '0', 'uuid': 'm6rAeSykRbK4StJ0tE2Giw', 'version': {'created': '6040099'}, 'provided_name': 'routerlog-2019.00'}\n",
      "Updating index: routerlog-2019.01\n",
      "routerlog-2019.01: blocks = {'creation_date': '1546844406660', 'number_of_shards': '2', 'number_of_replicas': '0', 'uuid': 'W2MpA4yeQJqCV1R2C-Q1cg', 'version': {'created': '6040099'}, 'provided_name': 'routerlog-2019.01'}\n",
      "Updating index: routerlog-2019.02\n",
      "routerlog-2019.02: blocks = {'creation_date': '1547449204221', 'number_of_shards': '2', 'number_of_replicas': '0', 'uuid': '310JZpQbSfa2hXKjlUckCg', 'version': {'created': '6040099'}, 'provided_name': 'routerlog-2019.02'}\n",
      "Updating index: routerlog-2019.03\n",
      "routerlog-2019.03: blocks = {'creation_date': '1548049537069', 'number_of_shards': '2', 'number_of_replicas': '0', 'uuid': 'bV76KLaaSPW5fuppesx9YQ', 'version': {'created': '6040099'}, 'provided_name': 'routerlog-2019.03'}\n",
      "Updating index: routerlog-2019.04\n",
      "routerlog-2019.04: blocks = {'creation_date': '1548658801899', 'number_of_shards': '2', 'number_of_replicas': '0', 'uuid': 'l-7wFgPoTLaznLGaQZutGA', 'version': {'created': '6040099'}, 'provided_name': 'routerlog-2019.04'}\n",
      "Updating index: routerlog-2019.05\n",
      "routerlog-2019.05: blocks = {'creation_date': '1549263601707', 'number_of_shards': '2', 'number_of_replicas': '0', 'uuid': 'neSV1xjCSlq5dPWJYOwB0w', 'version': {'created': '6040099'}, 'provided_name': 'routerlog-2019.05'}\n",
      "Updating index: routerlog-2019.06\n",
      "routerlog-2019.06: blocks = {'creation_date': '1549868401052', 'number_of_shards': '2', 'number_of_replicas': '0', 'uuid': 'z00hPg6TR-K0lhrMyiacgA', 'version': {'created': '6040099'}, 'provided_name': 'routerlog-2019.06'}\n",
      "Updating index: routerlog-2019.07\n",
      "routerlog-2019.07: blocks = {'creation_date': '1550473201287', 'number_of_shards': '2', 'number_of_replicas': '0', 'uuid': 'ewYKzFeLQOaRWp3ZOAErMg', 'version': {'created': '6040099'}, 'provided_name': 'routerlog-2019.07'}\n",
      "Updating index: routerlog-2019.08\n",
      "routerlog-2019.08: blocks = {'creation_date': '1551078001319', 'number_of_shards': '2', 'number_of_replicas': '0', 'uuid': 'QuTXGLhPSiC_ULvwRbeDbA', 'version': {'created': '6040099'}, 'provided_name': 'routerlog-2019.08'}\n",
      "Updating index: routerlog-2019.09\n",
      "routerlog-2019.09: blocks = {'creation_date': '1551682800522', 'number_of_shards': '2', 'number_of_replicas': '0', 'uuid': 'brCvVWJpRHCDB1rnB9XXcw', 'version': {'created': '6040099'}, 'provided_name': 'routerlog-2019.09'}\n",
      "Updating index: routerlog-2019.10\n",
      "routerlog-2019.10: blocks = {'creation_date': '1552287600072', 'number_of_shards': '2', 'number_of_replicas': '0', 'uuid': 'RyC2awouReqdeNL9Cbu0Mw', 'version': {'created': '6040099'}, 'provided_name': 'routerlog-2019.10'}\n",
      "Updating index: routerlog-2019.11\n",
      "routerlog-2019.11: blocks = {'creation_date': '1552892400545', 'number_of_shards': '2', 'number_of_replicas': '0', 'uuid': 'Vn02SSHVQECGRWRA_Gq_fw', 'version': {'created': '6040099'}, 'provided_name': 'routerlog-2019.11'}\n",
      "Updating index: routerlog-2019.12\n",
      "routerlog-2019.12: blocks = {'creation_date': '1553497205316', 'number_of_shards': '2', 'number_of_replicas': '0', 'uuid': 'EslUY4OETeG97oUyFN3QEw', 'version': {'created': '6040099'}, 'provided_name': 'routerlog-2019.12'}\n",
      "Updating index: routerlog-2019.13\n",
      "routerlog-2019.13: blocks = {'creation_date': '1554102003001', 'number_of_shards': '2', 'number_of_replicas': '0', 'uuid': 'XhxZB7--SPmpPnonOz56kw', 'version': {'created': '6040099'}, 'provided_name': 'routerlog-2019.13'}\n",
      "Updating index: routerlog-2019.14\n",
      "routerlog-2019.14: blocks = {'creation_date': '1554706801667', 'number_of_shards': '2', 'number_of_replicas': '0', 'uuid': 'snULUf5gRHecDUXwHvNzPw', 'version': {'created': '6040099'}, 'provided_name': 'routerlog-2019.14'}\n",
      "Updating index: routerlog-2019.15\n",
      "routerlog-2019.15: blocks = {'creation_date': '1555311601336', 'number_of_shards': '2', 'number_of_replicas': '0', 'uuid': 'ZPBUgjtJRESGPPmm-NKBFA', 'version': {'created': '6040099'}, 'provided_name': 'routerlog-2019.15'}\n",
      "Updating index: tstat-2019.00\n",
      "tstat-2019.00: blocks = {'creation_date': '1546326095837', 'number_of_shards': '2', 'number_of_replicas': '0', 'uuid': 'JXV5Zv5NSsyWXozfx94cqw', 'version': {'created': '6040099'}, 'provided_name': 'tstat-2019.00'}\n",
      "Updating index: tstat-2019.01\n",
      "tstat-2019.01: blocks = {'creation_date': '1546844697994', 'number_of_shards': '2', 'number_of_replicas': '0', 'uuid': 'DFmOeaBlR6GAVlaFx9ZN4g', 'version': {'created': '6040099'}, 'provided_name': 'tstat-2019.01'}\n",
      "Updating index: tstat-2019.02\n",
      "tstat-2019.02: blocks = {'creation_date': '1547449347608', 'number_of_shards': '2', 'number_of_replicas': '0', 'uuid': 'nFkW61W2QOqRnfyWDp5tSQ', 'version': {'created': '6040099'}, 'provided_name': 'tstat-2019.02'}\n",
      "Updating index: tstat-2019.03\n",
      "tstat-2019.03: blocks = {'creation_date': '1548054046965', 'number_of_shards': '2', 'number_of_replicas': '0', 'uuid': '1ukXtWAnTVumdxJ4NjvBiw', 'version': {'created': '6040099'}, 'provided_name': 'tstat-2019.03'}\n",
      "Updating index: tstat-2019.04\n",
      "tstat-2019.04: blocks = {'creation_date': '1548659018490', 'number_of_shards': '2', 'number_of_replicas': '0', 'uuid': 'AJRkB9LTT9CpnoaNxR3hAw', 'version': {'created': '6040099'}, 'provided_name': 'tstat-2019.04'}\n",
      "Updating index: tstat-2019.05\n",
      "tstat-2019.05: blocks = {'creation_date': '1549263852662', 'number_of_shards': '2', 'number_of_replicas': '0', 'uuid': 'I0Bgm3FQSpmE4o9A8nkR4A', 'version': {'created': '6040099'}, 'provided_name': 'tstat-2019.05'}\n",
      "Updating index: tstat-2019.06\n",
      "tstat-2019.06: blocks = {'creation_date': '1549868502983', 'number_of_shards': '2', 'number_of_replicas': '0', 'uuid': 'OnfVnhiyQAqZVx7t5xXNeQ', 'version': {'created': '6040099'}, 'provided_name': 'tstat-2019.06'}\n",
      "Updating index: tstat-2019.07\n"
     ]
    },
    {
     "name": "stdout",
     "output_type": "stream",
     "text": [
      "tstat-2019.07: blocks = {'creation_date': '1550473374465', 'number_of_shards': '2', 'number_of_replicas': '0', 'uuid': 'k7XpkjglSGmPIuyADRXCnQ', 'version': {'created': '6040099'}, 'provided_name': 'tstat-2019.07'}\n",
      "Updating index: tstat-2019.08\n",
      "tstat-2019.08: blocks = {'creation_date': '1551078257149', 'number_of_shards': '2', 'number_of_replicas': '0', 'uuid': 'mYvOY4giTYSSu00iEAzwyw', 'version': {'created': '6040099'}, 'provided_name': 'tstat-2019.08'}\n",
      "Updating index: tstat-2019.09\n",
      "tstat-2019.09: blocks = {'creation_date': '1551682818109', 'number_of_shards': '2', 'number_of_replicas': '0', 'uuid': 'V3EAEnQPQt2qUCkNxnDagw', 'version': {'created': '6040099'}, 'provided_name': 'tstat-2019.09'}\n",
      "Updating index: tstat-2019.10\n",
      "tstat-2019.10: blocks = {'creation_date': '1552287779429', 'number_of_shards': '2', 'number_of_replicas': '0', 'uuid': 'cTFZRVKJSr-XxiNRv3lAhg', 'version': {'created': '6040099'}, 'provided_name': 'tstat-2019.10'}\n",
      "Updating index: tstat-2019.11\n",
      "tstat-2019.11: blocks = {'creation_date': '1552892516498', 'number_of_shards': '2', 'number_of_replicas': '0', 'uuid': 'QG7BjYOHRzikklmv4ohPmQ', 'version': {'created': '6040099'}, 'provided_name': 'tstat-2019.11'}\n",
      "Updating index: tstat-2019.12\n",
      "tstat-2019.12: blocks = {'creation_date': '1553497338234', 'number_of_shards': '2', 'number_of_replicas': '0', 'uuid': 'Qa9VXmQtRyqXDjU9i29rhg', 'version': {'created': '6040099'}, 'provided_name': 'tstat-2019.12'}\n",
      "Updating index: tstat-2019.13\n",
      "tstat-2019.13: blocks = {'creation_date': '1554102260903', 'number_of_shards': '2', 'number_of_replicas': '0', 'uuid': 'TF6hDESxSZeQXUyAHYTPyQ', 'version': {'created': '6040099'}, 'provided_name': 'tstat-2019.13'}\n",
      "Updating index: tstat-2019.14\n",
      "tstat-2019.14: blocks = {'creation_date': '1554706813333', 'number_of_shards': '2', 'number_of_replicas': '0', 'uuid': '0R1DDStwQQO6b2kWVu05Iw', 'version': {'created': '6040099'}, 'provided_name': 'tstat-2019.14'}\n",
      "Updating index: tstat-2019.15\n",
      "tstat-2019.15: blocks = {'creation_date': '1555311852777', 'number_of_shards': '2', 'number_of_replicas': '0', 'uuid': 'jw0MLAfyR46Axt3bk4i5ww', 'version': {'created': '6040099'}, 'provided_name': 'tstat-2019.15'}\n"
     ]
    }
   ],
   "source": [
    "#s = {'index': {'blocks': {'read_only': False}}}\n",
    "xs = es.indices.get('*').keys()\n",
    "for ix in ixs:\n",
    "    print(f'Updating index: {ix}')\n",
    "    s = {'index': {'blocks': {'read_only_allow_delete': None, 'read_only': None}}}\n",
    "    es.indices.put_settings(s)\n",
    "    sc = es.indices.get(ix)[ix]['settings']\n",
    "    print(f'{ix}: blocks = {sc[\"index\"]}')"
   ]
  },
  {
   "cell_type": "code",
   "execution_count": null,
   "metadata": {
    "collapsed": true
   },
   "outputs": [],
   "source": [
    "es.indic"
   ]
  },
  {
   "cell_type": "code",
   "execution_count": 30,
   "metadata": {},
   "outputs": [
    {
     "name": "stdout",
     "output_type": "stream",
     "text": [
      "Deleting: tstat-2018.01\n",
      "Deleting: tstat-2018.02\n",
      "Deleting: tstat-2018.03\n",
      "Deleting: tstat-2018.04\n",
      "Deleting: tstat-2018.05\n",
      "Deleting: tstat-2018.06\n",
      "Deleting: tstat-2018.07\n",
      "Deleting: tstat-2018.08\n",
      "Deleting: tstat-2018.09\n",
      "Deleting: tstat-2018.10\n",
      "Deleting: tstat-2018.11\n",
      "Deleting: tstat-2018.12\n",
      "Deleting: tstat-2018.13\n",
      "Deleting: tstat-2018.14\n",
      "Deleting: tstat-2018.15\n",
      "Deleting: tstat-2018.16\n",
      "Deleting: tstat-2018.17\n",
      "Deleting: tstat-2018.18\n",
      "Deleting: tstat-2018.19\n",
      "Deleting: tstat-2018.20\n",
      "Deleting: tstat-2018.21\n",
      "Deleting: tstat-2018.22\n",
      "Deleting: tstat-2018.23\n",
      "Deleting: tstat-2018.24\n",
      "Deleting: tstat-2018.25\n",
      "Deleting: tstat-2018.26\n",
      "Deleting: tstat-2018.27\n",
      "Deleting: tstat-2018.28\n",
      "Deleting: tstat-2018.29\n",
      "Deleting: tstat-2018.30\n",
      "Deleting: tstat-2018.31\n",
      "Deleting: tstat-2018.32\n",
      "Deleting: tstat-2018.33\n",
      "Deleting: tstat-2018.34\n",
      "Deleting: tstat-2018.35\n",
      "Deleting: tstat-2018.36\n",
      "Deleting: tstat-2018.37\n",
      "Deleting: tstat-2018.38\n",
      "Deleting: tstat-2018.39\n",
      "Deleting: tstat-2018.40\n",
      "Deleting: tstat-2018.41\n",
      "Deleting: tstat-2018.42\n",
      "Deleting: tstat-2018.43\n",
      "Deleting: tstat-2018.44\n",
      "Deleting: tstat-2018.45\n",
      "Deleting: tstat-2018.46\n",
      "Deleting: tstat-2018.47\n",
      "Deleting: tstat-2018.48\n",
      "Deleting: tstat-2018.49\n",
      "Deleting: tstat-2018.50\n",
      "Deleting: tstat-2018.51\n",
      "Deleting: tstat-2018.52\n",
      "Deleting: tstat-2018.53\n"
     ]
    }
   ],
   "source": [
    "for ix in [ix for ix in ixs if '-2018' in ix]:\n",
    "    print(f'Deleting: {ix}')\n",
    "    #es.indices.delete(ix)\n",
    "\n",
    "    "
   ]
  },
  {
   "cell_type": "code",
   "execution_count": null,
   "metadata": {
    "collapsed": true
   },
   "outputs": [],
   "source": []
  }
 ],
 "metadata": {
  "kernelspec": {
   "display_name": "Python 3",
   "language": "python",
   "name": "python3"
  },
  "language_info": {
   "codemirror_mode": {
    "name": "ipython",
    "version": 3
   },
   "file_extension": ".py",
   "mimetype": "text/x-python",
   "name": "python",
   "nbconvert_exporter": "python",
   "pygments_lexer": "ipython3",
   "version": "3.6.1"
  }
 },
 "nbformat": 4,
 "nbformat_minor": 2
}
