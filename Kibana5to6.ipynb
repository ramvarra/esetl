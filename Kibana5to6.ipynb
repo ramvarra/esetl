{
 "cells": [
  {
   "cell_type": "code",
   "execution_count": 1,
   "metadata": {
    "collapsed": true
   },
   "outputs": [],
   "source": [
    "import logging\n",
    "import rv.misc\n",
    "import rv.ESUtil\n",
    "import datetime\n",
    "import dateutil\n",
    "import elasticsearch"
   ]
  },
  {
   "cell_type": "code",
   "execution_count": 2,
   "metadata": {
    "collapsed": true
   },
   "outputs": [],
   "source": [
    "esu = rv.ESUtil.ESUtil(hosts='http://ubu01:9200', timeout=240)\n",
    "es = esu._es"
   ]
  },
  {
   "cell_type": "code",
   "execution_count": 5,
   "metadata": {},
   "outputs": [
    {
     "data": {
      "text/plain": [
       "{'rrvarra.kibana': {'settings': {'index': {'creation_date': '1499482299151',\n",
       "    'mapper': {'dynamic': 'false'},\n",
       "    'number_of_replicas': '1',\n",
       "    'number_of_shards': '1',\n",
       "    'provided_name': 'rrvarra.kibana',\n",
       "    'uuid': '6RspnEreR0ac0w_I4kK2lg',\n",
       "    'version': {'created': '5050099', 'upgraded': '6000099'}}}}}"
      ]
     },
     "execution_count": 5,
     "metadata": {},
     "output_type": "execute_result"
    }
   ],
   "source": [
    "index = 'rrvarra.kibana'\n",
    "\n"
   ]
  },
  {
   "cell_type": "code",
   "execution_count": 27,
   "metadata": {},
   "outputs": [],
   "source": [
    "def set_write_mode(index, mode):\n",
    "    print('Setting mode for index: {} to {}'.format(index, mode))\n",
    "    s = {\n",
    "        \"index.blocks.write\": mode, # make it read-only\n",
    "    }\n",
    "\n",
    "    r = es.indices.put_settings(index=index, body=s)\n",
    "    assert r['acknowledged'], \"Failed: {}\".format(r)\n",
    "    \n"
   ]
  },
  {
   "cell_type": "code",
   "execution_count": 15,
   "metadata": {},
   "outputs": [
    {
     "data": {
      "text/plain": [
       "{'rrvarra.kibana': {'settings': {'index': {'blocks': {'write': 'false'},\n",
       "    'creation_date': '1499482299151',\n",
       "    'mapper': {'dynamic': 'false'},\n",
       "    'number_of_replicas': '1',\n",
       "    'number_of_shards': '1',\n",
       "    'provided_name': 'rrvarra.kibana',\n",
       "    'uuid': '6RspnEreR0ac0w_I4kK2lg',\n",
       "    'version': {'created': '5050099', 'upgraded': '6000099'}}}}}"
      ]
     },
     "execution_count": 15,
     "metadata": {},
     "output_type": "execute_result"
    }
   ],
   "source": [
    "es.indices.get_settings(index)\n"
   ]
  },
  {
   "cell_type": "code",
   "execution_count": 8,
   "metadata": {},
   "outputs": [
    {
     "data": {
      "text/plain": [
       "{'rrvarra.kibana': {'settings': {'index': {'blocks': {'write': 'true'},\n",
       "    'creation_date': '1499482299151',\n",
       "    'mapper': {'dynamic': 'false'},\n",
       "    'number_of_replicas': '1',\n",
       "    'number_of_shards': '1',\n",
       "    'provided_name': 'rrvarra.kibana',\n",
       "    'uuid': '6RspnEreR0ac0w_I4kK2lg',\n",
       "    'version': {'created': '5050099', 'upgraded': '6000099'}}}}}"
      ]
     },
     "execution_count": 8,
     "metadata": {},
     "output_type": "execute_result"
    }
   ],
   "source": [
    "es.indices.get_settings(index)"
   ]
  },
  {
   "cell_type": "code",
   "execution_count": 17,
   "metadata": {},
   "outputs": [],
   "source": [
    "kibana6_config = {\n",
    "  \"settings\" : {\n",
    "    \"number_of_shards\" : 1,\n",
    "    \"index.mapper.dynamic\": False,\n",
    "    \"number_of_replicas\": 1,      \n",
    "  },\n",
    "  \"mappings\" : {\n",
    "    \"doc\": {\n",
    "      \"properties\": {\n",
    "        \"type\": {\n",
    "          \"type\": \"keyword\"\n",
    "        },\n",
    "        \"updated_at\": {\n",
    "          \"type\": \"date\"\n",
    "        },\n",
    "        \"config\": {\n",
    "          \"properties\": {\n",
    "            \"buildNum\": {\n",
    "              \"type\": \"keyword\"\n",
    "            }\n",
    "          }\n",
    "        },\n",
    "        \"index-pattern\": {\n",
    "          \"properties\": {\n",
    "            \"fieldFormatMap\": {\n",
    "              \"type\": \"text\"\n",
    "            },\n",
    "            \"fields\": {\n",
    "              \"type\": \"text\"\n",
    "            },\n",
    "            \"intervalName\": {\n",
    "              \"type\": \"keyword\"\n",
    "            },\n",
    "            \"notExpandable\": {\n",
    "              \"type\": \"boolean\"\n",
    "            },\n",
    "            \"sourceFilters\": {\n",
    "              \"type\": \"text\"\n",
    "            },\n",
    "            \"timeFieldName\": {\n",
    "              \"type\": \"keyword\"\n",
    "            },\n",
    "            \"title\": {\n",
    "              \"type\": \"text\"\n",
    "            }\n",
    "          }\n",
    "        },\n",
    "        \"visualization\": {\n",
    "          \"properties\": {\n",
    "            \"description\": {\n",
    "              \"type\": \"text\"\n",
    "            },\n",
    "            \"kibanaSavedObjectMeta\": {\n",
    "              \"properties\": {\n",
    "                \"searchSourceJSON\": {\n",
    "                  \"type\": \"text\"\n",
    "                }\n",
    "              }\n",
    "            },\n",
    "            \"savedSearchId\": {\n",
    "              \"type\": \"keyword\"\n",
    "            },\n",
    "            \"title\": {\n",
    "              \"type\": \"text\"\n",
    "            },\n",
    "            \"uiStateJSON\": {\n",
    "              \"type\": \"text\"\n",
    "            },\n",
    "            \"version\": {\n",
    "              \"type\": \"integer\"\n",
    "            },\n",
    "            \"visState\": {\n",
    "              \"type\": \"text\"\n",
    "            }\n",
    "          }\n",
    "        },\n",
    "        \"search\": {\n",
    "          \"properties\": {\n",
    "            \"columns\": {\n",
    "              \"type\": \"keyword\"\n",
    "            },\n",
    "            \"description\": {\n",
    "              \"type\": \"text\"\n",
    "            },\n",
    "            \"hits\": {\n",
    "              \"type\": \"integer\"\n",
    "            },\n",
    "            \"kibanaSavedObjectMeta\": {\n",
    "              \"properties\": {\n",
    "                \"searchSourceJSON\": {\n",
    "                  \"type\": \"text\"\n",
    "                }\n",
    "              }\n",
    "            },\n",
    "            \"sort\": {\n",
    "              \"type\": \"keyword\"\n",
    "            },\n",
    "            \"title\": {\n",
    "              \"type\": \"text\"\n",
    "            },\n",
    "            \"version\": {\n",
    "              \"type\": \"integer\"\n",
    "            }\n",
    "          }\n",
    "        },\n",
    "        \"dashboard\": {\n",
    "          \"properties\": {\n",
    "            \"description\": {\n",
    "              \"type\": \"text\"\n",
    "            },\n",
    "            \"hits\": {\n",
    "              \"type\": \"integer\"\n",
    "            },\n",
    "            \"kibanaSavedObjectMeta\": {\n",
    "              \"properties\": {\n",
    "                \"searchSourceJSON\": {\n",
    "                  \"type\": \"text\"\n",
    "                }\n",
    "              }\n",
    "            },\n",
    "            \"optionsJSON\": {\n",
    "              \"type\": \"text\"\n",
    "            },\n",
    "            \"panelsJSON\": {\n",
    "              \"type\": \"text\"\n",
    "            },\n",
    "            \"refreshInterval\": {\n",
    "              \"properties\": {\n",
    "                \"display\": {\n",
    "                  \"type\": \"keyword\"\n",
    "                },\n",
    "                \"pause\": {\n",
    "                  \"type\": \"boolean\"\n",
    "                },\n",
    "                \"section\": {\n",
    "                  \"type\": \"integer\"\n",
    "                },\n",
    "                \"value\": {\n",
    "                  \"type\": \"integer\"\n",
    "                }\n",
    "              }\n",
    "            },\n",
    "            \"timeFrom\": {\n",
    "              \"type\": \"keyword\"\n",
    "            },\n",
    "            \"timeRestore\": {\n",
    "              \"type\": \"boolean\"\n",
    "            },\n",
    "            \"timeTo\": {\n",
    "              \"type\": \"keyword\"\n",
    "            },\n",
    "            \"title\": {\n",
    "              \"type\": \"text\"\n",
    "            },\n",
    "            \"uiStateJSON\": {\n",
    "              \"type\": \"text\"\n",
    "            },\n",
    "            \"version\": {\n",
    "              \"type\": \"integer\"\n",
    "            }\n",
    "          }\n",
    "        },\n",
    "        \"url\": {\n",
    "          \"properties\": {\n",
    "            \"accessCount\": {\n",
    "              \"type\": \"long\"\n",
    "            },\n",
    "            \"accessDate\": {\n",
    "              \"type\": \"date\"\n",
    "            },\n",
    "            \"createDate\": {\n",
    "              \"type\": \"date\"\n",
    "            },\n",
    "            \"url\": {\n",
    "              \"type\": \"text\",\n",
    "              \"fields\": {\n",
    "                \"keyword\": {\n",
    "                  \"type\": \"keyword\",\n",
    "                  \"ignore_above\": 2048\n",
    "                }\n",
    "              }\n",
    "            }\n",
    "          }\n",
    "        },\n",
    "        \"server\": {\n",
    "          \"properties\": {\n",
    "            \"uuid\": {\n",
    "              \"type\": \"keyword\"\n",
    "            }\n",
    "          }\n",
    "        },\n",
    "        \"timelion-sheet\": {\n",
    "          \"properties\": {\n",
    "            \"description\": {\n",
    "              \"type\": \"text\"\n",
    "            },\n",
    "            \"hits\": {\n",
    "              \"type\": \"integer\"\n",
    "            },\n",
    "            \"kibanaSavedObjectMeta\": {\n",
    "              \"properties\": {\n",
    "                \"searchSourceJSON\": {\n",
    "                  \"type\": \"text\"\n",
    "                }\n",
    "              }\n",
    "            },\n",
    "            \"timelion_chart_height\": {\n",
    "              \"type\": \"integer\"\n",
    "            },\n",
    "            \"timelion_columns\": {\n",
    "              \"type\": \"integer\"\n",
    "            },\n",
    "            \"timelion_interval\": {\n",
    "              \"type\": \"keyword\"\n",
    "            },\n",
    "            \"timelion_other_interval\": {\n",
    "              \"type\": \"keyword\"\n",
    "            },\n",
    "            \"timelion_rows\": {\n",
    "              \"type\": \"integer\"\n",
    "            },\n",
    "            \"timelion_sheet\": {\n",
    "              \"type\": \"text\"\n",
    "            },\n",
    "            \"title\": {\n",
    "              \"type\": \"text\"\n",
    "            },\n",
    "            \"version\": {\n",
    "              \"type\": \"integer\"\n",
    "            }\n",
    "          }\n",
    "        },\n",
    "        \"graph-workspace\": {\n",
    "          \"properties\": {\n",
    "            \"description\": {\n",
    "              \"type\": \"text\"\n",
    "            },\n",
    "            \"kibanaSavedObjectMeta\": {\n",
    "              \"properties\": {\n",
    "                \"searchSourceJSON\": {\n",
    "                  \"type\": \"text\"\n",
    "                }\n",
    "              }\n",
    "            },\n",
    "            \"numLinks\": {\n",
    "              \"type\": \"integer\"\n",
    "            },\n",
    "            \"numVertices\": {\n",
    "              \"type\": \"integer\"\n",
    "            },\n",
    "            \"title\": {\n",
    "              \"type\": \"text\"\n",
    "            },\n",
    "            \"version\": {\n",
    "              \"type\": \"integer\"\n",
    "            },\n",
    "            \"wsState\": {\n",
    "              \"type\": \"text\"\n",
    "            }\n",
    "          }\n",
    "        }\n",
    "      }\n",
    "    }\n",
    "  }\n",
    "}\n"
   ]
  },
  {
   "cell_type": "code",
   "execution_count": 19,
   "metadata": {},
   "outputs": [
    {
     "data": {
      "text/plain": [
       "{'acknowledged': True,\n",
       " 'index': 'rrvarra.kibana_k6',\n",
       " 'shards_acknowledged': True}"
      ]
     },
     "execution_count": 19,
     "metadata": {},
     "output_type": "execute_result"
    }
   ],
   "source": [
    "kibana6_index = index + '_k6'\n",
    "es.indices.create(index=kibana6_index, body=kibana6_config)"
   ]
  },
  {
   "cell_type": "code",
   "execution_count": 21,
   "metadata": {},
   "outputs": [
    {
     "data": {
      "text/plain": [
       "{'batches': 1,\n",
       " 'created': 29,\n",
       " 'deleted': 0,\n",
       " 'failures': [],\n",
       " 'noops': 0,\n",
       " 'requests_per_second': -1.0,\n",
       " 'retries': {'bulk': 0, 'search': 0},\n",
       " 'throttled_millis': 0,\n",
       " 'throttled_until_millis': 0,\n",
       " 'timed_out': False,\n",
       " 'took': 243,\n",
       " 'total': 29,\n",
       " 'updated': 0,\n",
       " 'version_conflicts': 0}"
      ]
     },
     "execution_count": 21,
     "metadata": {},
     "output_type": "execute_result"
    }
   ],
   "source": [
    "body = {\n",
    "  \"source\": {\n",
    "    \"index\": index\n",
    "  },\n",
    "  \"dest\": {\n",
    "    \"index\": kibana6_index\n",
    "  },\n",
    "  \"script\": {\n",
    "    \"source\": \"ctx._source = [ ctx._type : ctx._source ]; ctx._source.type = ctx._type; ctx._id = ctx._type + \\\":\\\" + ctx._id; ctx._type = \\\"doc\\\"; \"\n",
    "  }\n",
    "}\n",
    "\n",
    "r = es.reindex(body=body)\n",
    "assert r['failures'], \"Falures: {}\".format(r['failures'])\n"
   ]
  },
  {
   "cell_type": "code",
   "execution_count": 49,
   "metadata": {},
   "outputs": [
    {
     "ename": "NotFoundError",
     "evalue": "TransportError(404, 'index_not_found_exception', 'no such index')",
     "output_type": "error",
     "traceback": [
      "\u001b[1;31m---------------------------------------------------------------------------\u001b[0m",
      "\u001b[1;31mNotFoundError\u001b[0m                             Traceback (most recent call last)",
      "\u001b[1;32m<ipython-input-49-93022270208b>\u001b[0m in \u001b[0;36m<module>\u001b[1;34m()\u001b[0m\n\u001b[0;32m      1\u001b[0m \u001b[1;31m# drop old index\u001b[0m\u001b[1;33m\u001b[0m\u001b[1;33m\u001b[0m\u001b[0m\n\u001b[1;32m----> 2\u001b[1;33m \u001b[0mes\u001b[0m\u001b[1;33m.\u001b[0m\u001b[0mindices\u001b[0m\u001b[1;33m.\u001b[0m\u001b[0mdelete\u001b[0m\u001b[1;33m(\u001b[0m\u001b[0mindex\u001b[0m\u001b[1;33m=\u001b[0m\u001b[0mindex\u001b[0m\u001b[1;33m)\u001b[0m\u001b[1;33m\u001b[0m\u001b[0m\n\u001b[0m",
      "\u001b[1;32mC:\\Anaconda3\\lib\\site-packages\\elasticsearch\\client\\utils.py\u001b[0m in \u001b[0;36m_wrapped\u001b[1;34m(*args, **kwargs)\u001b[0m\n\u001b[0;32m     71\u001b[0m                 \u001b[1;32mif\u001b[0m \u001b[0mp\u001b[0m \u001b[1;32min\u001b[0m \u001b[0mkwargs\u001b[0m\u001b[1;33m:\u001b[0m\u001b[1;33m\u001b[0m\u001b[0m\n\u001b[0;32m     72\u001b[0m                     \u001b[0mparams\u001b[0m\u001b[1;33m[\u001b[0m\u001b[0mp\u001b[0m\u001b[1;33m]\u001b[0m \u001b[1;33m=\u001b[0m \u001b[0mkwargs\u001b[0m\u001b[1;33m.\u001b[0m\u001b[0mpop\u001b[0m\u001b[1;33m(\u001b[0m\u001b[0mp\u001b[0m\u001b[1;33m)\u001b[0m\u001b[1;33m\u001b[0m\u001b[0m\n\u001b[1;32m---> 73\u001b[1;33m             \u001b[1;32mreturn\u001b[0m \u001b[0mfunc\u001b[0m\u001b[1;33m(\u001b[0m\u001b[1;33m*\u001b[0m\u001b[0margs\u001b[0m\u001b[1;33m,\u001b[0m \u001b[0mparams\u001b[0m\u001b[1;33m=\u001b[0m\u001b[0mparams\u001b[0m\u001b[1;33m,\u001b[0m \u001b[1;33m**\u001b[0m\u001b[0mkwargs\u001b[0m\u001b[1;33m)\u001b[0m\u001b[1;33m\u001b[0m\u001b[0m\n\u001b[0m\u001b[0;32m     74\u001b[0m         \u001b[1;32mreturn\u001b[0m \u001b[0m_wrapped\u001b[0m\u001b[1;33m\u001b[0m\u001b[0m\n\u001b[0;32m     75\u001b[0m     \u001b[1;32mreturn\u001b[0m \u001b[0m_wrapper\u001b[0m\u001b[1;33m\u001b[0m\u001b[0m\n",
      "\u001b[1;32mC:\\Anaconda3\\lib\\site-packages\\elasticsearch\\client\\indices.py\u001b[0m in \u001b[0;36mdelete\u001b[1;34m(self, index, params)\u001b[0m\n\u001b[0;32m    198\u001b[0m             \u001b[1;32mraise\u001b[0m \u001b[0mValueError\u001b[0m\u001b[1;33m(\u001b[0m\u001b[1;34m\"Empty value passed for a required argument 'index'.\"\u001b[0m\u001b[1;33m)\u001b[0m\u001b[1;33m\u001b[0m\u001b[0m\n\u001b[0;32m    199\u001b[0m         return self.transport.perform_request('DELETE', _make_path(index),\n\u001b[1;32m--> 200\u001b[1;33m             params=params)\n\u001b[0m\u001b[0;32m    201\u001b[0m \u001b[1;33m\u001b[0m\u001b[0m\n\u001b[0;32m    202\u001b[0m     @query_params('allow_no_indices', 'expand_wildcards', 'ignore_unavailable',\n",
      "\u001b[1;32mC:\\Anaconda3\\lib\\site-packages\\elasticsearch\\transport.py\u001b[0m in \u001b[0;36mperform_request\u001b[1;34m(self, method, url, params, body)\u001b[0m\n\u001b[0;32m    310\u001b[0m \u001b[1;33m\u001b[0m\u001b[0m\n\u001b[0;32m    311\u001b[0m             \u001b[1;32mtry\u001b[0m\u001b[1;33m:\u001b[0m\u001b[1;33m\u001b[0m\u001b[0m\n\u001b[1;32m--> 312\u001b[1;33m                 \u001b[0mstatus\u001b[0m\u001b[1;33m,\u001b[0m \u001b[0mheaders\u001b[0m\u001b[1;33m,\u001b[0m \u001b[0mdata\u001b[0m \u001b[1;33m=\u001b[0m \u001b[0mconnection\u001b[0m\u001b[1;33m.\u001b[0m\u001b[0mperform_request\u001b[0m\u001b[1;33m(\u001b[0m\u001b[0mmethod\u001b[0m\u001b[1;33m,\u001b[0m \u001b[0murl\u001b[0m\u001b[1;33m,\u001b[0m \u001b[0mparams\u001b[0m\u001b[1;33m,\u001b[0m \u001b[0mbody\u001b[0m\u001b[1;33m,\u001b[0m \u001b[0mignore\u001b[0m\u001b[1;33m=\u001b[0m\u001b[0mignore\u001b[0m\u001b[1;33m,\u001b[0m \u001b[0mtimeout\u001b[0m\u001b[1;33m=\u001b[0m\u001b[0mtimeout\u001b[0m\u001b[1;33m)\u001b[0m\u001b[1;33m\u001b[0m\u001b[0m\n\u001b[0m\u001b[0;32m    313\u001b[0m \u001b[1;33m\u001b[0m\u001b[0m\n\u001b[0;32m    314\u001b[0m             \u001b[1;32mexcept\u001b[0m \u001b[0mTransportError\u001b[0m \u001b[1;32mas\u001b[0m \u001b[0me\u001b[0m\u001b[1;33m:\u001b[0m\u001b[1;33m\u001b[0m\u001b[0m\n",
      "\u001b[1;32mC:\\Anaconda3\\lib\\site-packages\\elasticsearch\\connection\\http_urllib3.py\u001b[0m in \u001b[0;36mperform_request\u001b[1;34m(self, method, url, params, body, timeout, ignore)\u001b[0m\n\u001b[0;32m    126\u001b[0m         \u001b[1;32mif\u001b[0m \u001b[1;32mnot\u001b[0m \u001b[1;33m(\u001b[0m\u001b[1;36m200\u001b[0m \u001b[1;33m<=\u001b[0m \u001b[0mresponse\u001b[0m\u001b[1;33m.\u001b[0m\u001b[0mstatus\u001b[0m \u001b[1;33m<\u001b[0m \u001b[1;36m300\u001b[0m\u001b[1;33m)\u001b[0m \u001b[1;32mand\u001b[0m \u001b[0mresponse\u001b[0m\u001b[1;33m.\u001b[0m\u001b[0mstatus\u001b[0m \u001b[1;32mnot\u001b[0m \u001b[1;32min\u001b[0m \u001b[0mignore\u001b[0m\u001b[1;33m:\u001b[0m\u001b[1;33m\u001b[0m\u001b[0m\n\u001b[0;32m    127\u001b[0m             \u001b[0mself\u001b[0m\u001b[1;33m.\u001b[0m\u001b[0mlog_request_fail\u001b[0m\u001b[1;33m(\u001b[0m\u001b[0mmethod\u001b[0m\u001b[1;33m,\u001b[0m \u001b[0mfull_url\u001b[0m\u001b[1;33m,\u001b[0m \u001b[0murl\u001b[0m\u001b[1;33m,\u001b[0m \u001b[0mbody\u001b[0m\u001b[1;33m,\u001b[0m \u001b[0mduration\u001b[0m\u001b[1;33m,\u001b[0m \u001b[0mresponse\u001b[0m\u001b[1;33m.\u001b[0m\u001b[0mstatus\u001b[0m\u001b[1;33m,\u001b[0m \u001b[0mraw_data\u001b[0m\u001b[1;33m)\u001b[0m\u001b[1;33m\u001b[0m\u001b[0m\n\u001b[1;32m--> 128\u001b[1;33m             \u001b[0mself\u001b[0m\u001b[1;33m.\u001b[0m\u001b[0m_raise_error\u001b[0m\u001b[1;33m(\u001b[0m\u001b[0mresponse\u001b[0m\u001b[1;33m.\u001b[0m\u001b[0mstatus\u001b[0m\u001b[1;33m,\u001b[0m \u001b[0mraw_data\u001b[0m\u001b[1;33m)\u001b[0m\u001b[1;33m\u001b[0m\u001b[0m\n\u001b[0m\u001b[0;32m    129\u001b[0m \u001b[1;33m\u001b[0m\u001b[0m\n\u001b[0;32m    130\u001b[0m         self.log_request_success(method, full_url, url, body, response.status,\n",
      "\u001b[1;32mC:\\Anaconda3\\lib\\site-packages\\elasticsearch\\connection\\base.py\u001b[0m in \u001b[0;36m_raise_error\u001b[1;34m(self, status_code, raw_data)\u001b[0m\n\u001b[0;32m    123\u001b[0m             \u001b[0mlogger\u001b[0m\u001b[1;33m.\u001b[0m\u001b[0mwarning\u001b[0m\u001b[1;33m(\u001b[0m\u001b[1;34m'Undecodable raw error response from server: %s'\u001b[0m\u001b[1;33m,\u001b[0m \u001b[0merr\u001b[0m\u001b[1;33m)\u001b[0m\u001b[1;33m\u001b[0m\u001b[0m\n\u001b[0;32m    124\u001b[0m \u001b[1;33m\u001b[0m\u001b[0m\n\u001b[1;32m--> 125\u001b[1;33m         \u001b[1;32mraise\u001b[0m \u001b[0mHTTP_EXCEPTIONS\u001b[0m\u001b[1;33m.\u001b[0m\u001b[0mget\u001b[0m\u001b[1;33m(\u001b[0m\u001b[0mstatus_code\u001b[0m\u001b[1;33m,\u001b[0m \u001b[0mTransportError\u001b[0m\u001b[1;33m)\u001b[0m\u001b[1;33m(\u001b[0m\u001b[0mstatus_code\u001b[0m\u001b[1;33m,\u001b[0m \u001b[0merror_message\u001b[0m\u001b[1;33m,\u001b[0m \u001b[0madditional_info\u001b[0m\u001b[1;33m)\u001b[0m\u001b[1;33m\u001b[0m\u001b[0m\n\u001b[0m\u001b[0;32m    126\u001b[0m \u001b[1;33m\u001b[0m\u001b[0m\n\u001b[0;32m    127\u001b[0m \u001b[1;33m\u001b[0m\u001b[0m\n",
      "\u001b[1;31mNotFoundError\u001b[0m: TransportError(404, 'index_not_found_exception', 'no such index')"
     ]
    }
   ],
   "source": [
    "# drop old index\n",
    "es.indices.delete(index=index)"
   ]
  },
  {
   "cell_type": "code",
   "execution_count": 34,
   "metadata": {},
   "outputs": [
    {
     "name": "stdout",
     "output_type": "stream",
     "text": [
      "Setting mode for index: rrvarra.kibana to True\n"
     ]
    }
   ],
   "source": [
    "set_write_mode(index, True)"
   ]
  },
  {
   "cell_type": "code",
   "execution_count": 42,
   "metadata": {},
   "outputs": [
    {
     "data": {
      "text/plain": [
       "{'rrvarra.kibana': {'aliases': {},\n",
       "  'mappings': {'doc': {'dynamic': 'strict',\n",
       "    'properties': {'config': {'dynamic': 'true',\n",
       "      'properties': {'buildNum': {'type': 'keyword'}}},\n",
       "     'dashboard': {'properties': {'description': {'type': 'text'},\n",
       "       'hits': {'type': 'integer'},\n",
       "       'kibanaSavedObjectMeta': {'properties': {'searchSourceJSON': {'type': 'text'}}},\n",
       "       'optionsJSON': {'type': 'text'},\n",
       "       'panelsJSON': {'type': 'text'},\n",
       "       'refreshInterval': {'properties': {'display': {'type': 'keyword'},\n",
       "         'pause': {'type': 'boolean'},\n",
       "         'section': {'type': 'integer'},\n",
       "         'value': {'type': 'integer'}}},\n",
       "       'timeFrom': {'type': 'keyword'},\n",
       "       'timeRestore': {'type': 'boolean'},\n",
       "       'timeTo': {'type': 'keyword'},\n",
       "       'title': {'type': 'text'},\n",
       "       'uiStateJSON': {'type': 'text'},\n",
       "       'version': {'type': 'integer'}}},\n",
       "     'index-pattern': {'properties': {'fieldFormatMap': {'type': 'text'},\n",
       "       'fields': {'type': 'text'},\n",
       "       'intervalName': {'type': 'keyword'},\n",
       "       'notExpandable': {'type': 'boolean'},\n",
       "       'sourceFilters': {'type': 'text'},\n",
       "       'timeFieldName': {'type': 'keyword'},\n",
       "       'title': {'type': 'text'}}},\n",
       "     'search': {'properties': {'columns': {'type': 'keyword'},\n",
       "       'description': {'type': 'text'},\n",
       "       'hits': {'type': 'integer'},\n",
       "       'kibanaSavedObjectMeta': {'properties': {'searchSourceJSON': {'type': 'text'}}},\n",
       "       'sort': {'type': 'keyword'},\n",
       "       'title': {'type': 'text'},\n",
       "       'version': {'type': 'integer'}}},\n",
       "     'server': {'properties': {'uuid': {'type': 'keyword'}}},\n",
       "     'timelion-sheet': {'properties': {'description': {'type': 'text'},\n",
       "       'hits': {'type': 'integer'},\n",
       "       'kibanaSavedObjectMeta': {'properties': {'searchSourceJSON': {'type': 'text'}}},\n",
       "       'timelion_chart_height': {'type': 'integer'},\n",
       "       'timelion_columns': {'type': 'integer'},\n",
       "       'timelion_interval': {'type': 'keyword'},\n",
       "       'timelion_other_interval': {'type': 'keyword'},\n",
       "       'timelion_rows': {'type': 'integer'},\n",
       "       'timelion_sheet': {'type': 'text'},\n",
       "       'title': {'type': 'text'},\n",
       "       'version': {'type': 'integer'}}},\n",
       "     'type': {'type': 'keyword'},\n",
       "     'url': {'properties': {'accessCount': {'type': 'long'},\n",
       "       'accessDate': {'type': 'date'},\n",
       "       'createDate': {'type': 'date'},\n",
       "       'url': {'fields': {'keyword': {'ignore_above': 2048,\n",
       "          'type': 'keyword'}},\n",
       "        'type': 'text'}}},\n",
       "     'visualization': {'properties': {'description': {'type': 'text'},\n",
       "       'kibanaSavedObjectMeta': {'properties': {'searchSourceJSON': {'type': 'text'}}},\n",
       "       'savedSearchId': {'type': 'keyword'},\n",
       "       'title': {'type': 'text'},\n",
       "       'uiStateJSON': {'type': 'text'},\n",
       "       'version': {'type': 'integer'},\n",
       "       'visState': {'type': 'text'}}}}}},\n",
       "  'settings': {'index': {'creation_date': '1511146595367',\n",
       "    'number_of_replicas': '1',\n",
       "    'number_of_shards': '1',\n",
       "    'provided_name': 'rrvarra.kibana',\n",
       "    'uuid': 'oyAN2wQrSHax60Jq33iixg',\n",
       "    'version': {'created': '6000099'}}}}}"
      ]
     },
     "execution_count": 42,
     "metadata": {},
     "output_type": "execute_result"
    }
   ],
   "source": [
    "es.indices.get(index)"
   ]
  },
  {
   "cell_type": "code",
   "execution_count": 46,
   "metadata": {},
   "outputs": [
    {
     "ename": "NotFoundError",
     "evalue": "TransportError(404, 'index_not_found_exception', 'no such index')",
     "output_type": "error",
     "traceback": [
      "\u001b[1;31m---------------------------------------------------------------------------\u001b[0m",
      "\u001b[1;31mNotFoundError\u001b[0m                             Traceback (most recent call last)",
      "\u001b[1;32m<ipython-input-46-7d8bed15cfb5>\u001b[0m in \u001b[0;36m<module>\u001b[1;34m()\u001b[0m\n\u001b[1;32m----> 1\u001b[1;33m \u001b[0mes\u001b[0m\u001b[1;33m.\u001b[0m\u001b[0mindices\u001b[0m\u001b[1;33m.\u001b[0m\u001b[0mdelete\u001b[0m\u001b[1;33m(\u001b[0m\u001b[0mindex\u001b[0m\u001b[1;33m)\u001b[0m\u001b[1;33m\u001b[0m\u001b[0m\n\u001b[0m",
      "\u001b[1;32mC:\\Anaconda3\\lib\\site-packages\\elasticsearch\\client\\utils.py\u001b[0m in \u001b[0;36m_wrapped\u001b[1;34m(*args, **kwargs)\u001b[0m\n\u001b[0;32m     71\u001b[0m                 \u001b[1;32mif\u001b[0m \u001b[0mp\u001b[0m \u001b[1;32min\u001b[0m \u001b[0mkwargs\u001b[0m\u001b[1;33m:\u001b[0m\u001b[1;33m\u001b[0m\u001b[0m\n\u001b[0;32m     72\u001b[0m                     \u001b[0mparams\u001b[0m\u001b[1;33m[\u001b[0m\u001b[0mp\u001b[0m\u001b[1;33m]\u001b[0m \u001b[1;33m=\u001b[0m \u001b[0mkwargs\u001b[0m\u001b[1;33m.\u001b[0m\u001b[0mpop\u001b[0m\u001b[1;33m(\u001b[0m\u001b[0mp\u001b[0m\u001b[1;33m)\u001b[0m\u001b[1;33m\u001b[0m\u001b[0m\n\u001b[1;32m---> 73\u001b[1;33m             \u001b[1;32mreturn\u001b[0m \u001b[0mfunc\u001b[0m\u001b[1;33m(\u001b[0m\u001b[1;33m*\u001b[0m\u001b[0margs\u001b[0m\u001b[1;33m,\u001b[0m \u001b[0mparams\u001b[0m\u001b[1;33m=\u001b[0m\u001b[0mparams\u001b[0m\u001b[1;33m,\u001b[0m \u001b[1;33m**\u001b[0m\u001b[0mkwargs\u001b[0m\u001b[1;33m)\u001b[0m\u001b[1;33m\u001b[0m\u001b[0m\n\u001b[0m\u001b[0;32m     74\u001b[0m         \u001b[1;32mreturn\u001b[0m \u001b[0m_wrapped\u001b[0m\u001b[1;33m\u001b[0m\u001b[0m\n\u001b[0;32m     75\u001b[0m     \u001b[1;32mreturn\u001b[0m \u001b[0m_wrapper\u001b[0m\u001b[1;33m\u001b[0m\u001b[0m\n",
      "\u001b[1;32mC:\\Anaconda3\\lib\\site-packages\\elasticsearch\\client\\indices.py\u001b[0m in \u001b[0;36mdelete\u001b[1;34m(self, index, params)\u001b[0m\n\u001b[0;32m    198\u001b[0m             \u001b[1;32mraise\u001b[0m \u001b[0mValueError\u001b[0m\u001b[1;33m(\u001b[0m\u001b[1;34m\"Empty value passed for a required argument 'index'.\"\u001b[0m\u001b[1;33m)\u001b[0m\u001b[1;33m\u001b[0m\u001b[0m\n\u001b[0;32m    199\u001b[0m         return self.transport.perform_request('DELETE', _make_path(index),\n\u001b[1;32m--> 200\u001b[1;33m             params=params)\n\u001b[0m\u001b[0;32m    201\u001b[0m \u001b[1;33m\u001b[0m\u001b[0m\n\u001b[0;32m    202\u001b[0m     @query_params('allow_no_indices', 'expand_wildcards', 'ignore_unavailable',\n",
      "\u001b[1;32mC:\\Anaconda3\\lib\\site-packages\\elasticsearch\\transport.py\u001b[0m in \u001b[0;36mperform_request\u001b[1;34m(self, method, url, params, body)\u001b[0m\n\u001b[0;32m    310\u001b[0m \u001b[1;33m\u001b[0m\u001b[0m\n\u001b[0;32m    311\u001b[0m             \u001b[1;32mtry\u001b[0m\u001b[1;33m:\u001b[0m\u001b[1;33m\u001b[0m\u001b[0m\n\u001b[1;32m--> 312\u001b[1;33m                 \u001b[0mstatus\u001b[0m\u001b[1;33m,\u001b[0m \u001b[0mheaders\u001b[0m\u001b[1;33m,\u001b[0m \u001b[0mdata\u001b[0m \u001b[1;33m=\u001b[0m \u001b[0mconnection\u001b[0m\u001b[1;33m.\u001b[0m\u001b[0mperform_request\u001b[0m\u001b[1;33m(\u001b[0m\u001b[0mmethod\u001b[0m\u001b[1;33m,\u001b[0m \u001b[0murl\u001b[0m\u001b[1;33m,\u001b[0m \u001b[0mparams\u001b[0m\u001b[1;33m,\u001b[0m \u001b[0mbody\u001b[0m\u001b[1;33m,\u001b[0m \u001b[0mignore\u001b[0m\u001b[1;33m=\u001b[0m\u001b[0mignore\u001b[0m\u001b[1;33m,\u001b[0m \u001b[0mtimeout\u001b[0m\u001b[1;33m=\u001b[0m\u001b[0mtimeout\u001b[0m\u001b[1;33m)\u001b[0m\u001b[1;33m\u001b[0m\u001b[0m\n\u001b[0m\u001b[0;32m    313\u001b[0m \u001b[1;33m\u001b[0m\u001b[0m\n\u001b[0;32m    314\u001b[0m             \u001b[1;32mexcept\u001b[0m \u001b[0mTransportError\u001b[0m \u001b[1;32mas\u001b[0m \u001b[0me\u001b[0m\u001b[1;33m:\u001b[0m\u001b[1;33m\u001b[0m\u001b[0m\n",
      "\u001b[1;32mC:\\Anaconda3\\lib\\site-packages\\elasticsearch\\connection\\http_urllib3.py\u001b[0m in \u001b[0;36mperform_request\u001b[1;34m(self, method, url, params, body, timeout, ignore)\u001b[0m\n\u001b[0;32m    126\u001b[0m         \u001b[1;32mif\u001b[0m \u001b[1;32mnot\u001b[0m \u001b[1;33m(\u001b[0m\u001b[1;36m200\u001b[0m \u001b[1;33m<=\u001b[0m \u001b[0mresponse\u001b[0m\u001b[1;33m.\u001b[0m\u001b[0mstatus\u001b[0m \u001b[1;33m<\u001b[0m \u001b[1;36m300\u001b[0m\u001b[1;33m)\u001b[0m \u001b[1;32mand\u001b[0m \u001b[0mresponse\u001b[0m\u001b[1;33m.\u001b[0m\u001b[0mstatus\u001b[0m \u001b[1;32mnot\u001b[0m \u001b[1;32min\u001b[0m \u001b[0mignore\u001b[0m\u001b[1;33m:\u001b[0m\u001b[1;33m\u001b[0m\u001b[0m\n\u001b[0;32m    127\u001b[0m             \u001b[0mself\u001b[0m\u001b[1;33m.\u001b[0m\u001b[0mlog_request_fail\u001b[0m\u001b[1;33m(\u001b[0m\u001b[0mmethod\u001b[0m\u001b[1;33m,\u001b[0m \u001b[0mfull_url\u001b[0m\u001b[1;33m,\u001b[0m \u001b[0murl\u001b[0m\u001b[1;33m,\u001b[0m \u001b[0mbody\u001b[0m\u001b[1;33m,\u001b[0m \u001b[0mduration\u001b[0m\u001b[1;33m,\u001b[0m \u001b[0mresponse\u001b[0m\u001b[1;33m.\u001b[0m\u001b[0mstatus\u001b[0m\u001b[1;33m,\u001b[0m \u001b[0mraw_data\u001b[0m\u001b[1;33m)\u001b[0m\u001b[1;33m\u001b[0m\u001b[0m\n\u001b[1;32m--> 128\u001b[1;33m             \u001b[0mself\u001b[0m\u001b[1;33m.\u001b[0m\u001b[0m_raise_error\u001b[0m\u001b[1;33m(\u001b[0m\u001b[0mresponse\u001b[0m\u001b[1;33m.\u001b[0m\u001b[0mstatus\u001b[0m\u001b[1;33m,\u001b[0m \u001b[0mraw_data\u001b[0m\u001b[1;33m)\u001b[0m\u001b[1;33m\u001b[0m\u001b[0m\n\u001b[0m\u001b[0;32m    129\u001b[0m \u001b[1;33m\u001b[0m\u001b[0m\n\u001b[0;32m    130\u001b[0m         self.log_request_success(method, full_url, url, body, response.status,\n",
      "\u001b[1;32mC:\\Anaconda3\\lib\\site-packages\\elasticsearch\\connection\\base.py\u001b[0m in \u001b[0;36m_raise_error\u001b[1;34m(self, status_code, raw_data)\u001b[0m\n\u001b[0;32m    123\u001b[0m             \u001b[0mlogger\u001b[0m\u001b[1;33m.\u001b[0m\u001b[0mwarning\u001b[0m\u001b[1;33m(\u001b[0m\u001b[1;34m'Undecodable raw error response from server: %s'\u001b[0m\u001b[1;33m,\u001b[0m \u001b[0merr\u001b[0m\u001b[1;33m)\u001b[0m\u001b[1;33m\u001b[0m\u001b[0m\n\u001b[0;32m    124\u001b[0m \u001b[1;33m\u001b[0m\u001b[0m\n\u001b[1;32m--> 125\u001b[1;33m         \u001b[1;32mraise\u001b[0m \u001b[0mHTTP_EXCEPTIONS\u001b[0m\u001b[1;33m.\u001b[0m\u001b[0mget\u001b[0m\u001b[1;33m(\u001b[0m\u001b[0mstatus_code\u001b[0m\u001b[1;33m,\u001b[0m \u001b[0mTransportError\u001b[0m\u001b[1;33m)\u001b[0m\u001b[1;33m(\u001b[0m\u001b[0mstatus_code\u001b[0m\u001b[1;33m,\u001b[0m \u001b[0merror_message\u001b[0m\u001b[1;33m,\u001b[0m \u001b[0madditional_info\u001b[0m\u001b[1;33m)\u001b[0m\u001b[1;33m\u001b[0m\u001b[0m\n\u001b[0m\u001b[0;32m    126\u001b[0m \u001b[1;33m\u001b[0m\u001b[0m\n\u001b[0;32m    127\u001b[0m \u001b[1;33m\u001b[0m\u001b[0m\n",
      "\u001b[1;31mNotFoundError\u001b[0m: TransportError(404, 'index_not_found_exception', 'no such index')"
     ]
    }
   ],
   "source": [
    "es.indices.delete(index)"
   ]
  },
  {
   "cell_type": "code",
   "execution_count": 50,
   "metadata": {},
   "outputs": [
    {
     "data": {
      "text/plain": [
       "{'acknowledged': True}"
      ]
     },
     "execution_count": 50,
     "metadata": {},
     "output_type": "execute_result"
    }
   ],
   "source": [
    "# create alias\n",
    "es.indices.put_alias(name=index, index=kibana6_index)"
   ]
  },
  {
   "cell_type": "code",
   "execution_count": 51,
   "metadata": {},
   "outputs": [
    {
     "data": {
      "text/plain": [
       "{'rrvarra.kibana_k6': {'aliases': {'rrvarra.kibana': {}},\n",
       "  'mappings': {'doc': {'properties': {'config': {'properties': {'buildNum': {'type': 'keyword'},\n",
       "       'defaultIndex': {'fields': {'keyword': {'ignore_above': 256,\n",
       "          'type': 'keyword'}},\n",
       "        'type': 'text'}}},\n",
       "     'dashboard': {'properties': {'description': {'type': 'text'},\n",
       "       'hits': {'type': 'integer'},\n",
       "       'kibanaSavedObjectMeta': {'properties': {'searchSourceJSON': {'type': 'text'}}},\n",
       "       'optionsJSON': {'type': 'text'},\n",
       "       'panelsJSON': {'type': 'text'},\n",
       "       'refreshInterval': {'properties': {'display': {'type': 'keyword'},\n",
       "         'pause': {'type': 'boolean'},\n",
       "         'section': {'type': 'integer'},\n",
       "         'value': {'type': 'integer'}}},\n",
       "       'timeFrom': {'type': 'keyword'},\n",
       "       'timeRestore': {'type': 'boolean'},\n",
       "       'timeTo': {'type': 'keyword'},\n",
       "       'title': {'type': 'text'},\n",
       "       'uiStateJSON': {'type': 'text'},\n",
       "       'version': {'type': 'integer'}}},\n",
       "     'graph-workspace': {'properties': {'description': {'type': 'text'},\n",
       "       'kibanaSavedObjectMeta': {'properties': {'searchSourceJSON': {'type': 'text'}}},\n",
       "       'numLinks': {'type': 'integer'},\n",
       "       'numVertices': {'type': 'integer'},\n",
       "       'title': {'type': 'text'},\n",
       "       'version': {'type': 'integer'},\n",
       "       'wsState': {'type': 'text'}}},\n",
       "     'index-pattern': {'properties': {'fieldFormatMap': {'type': 'text'},\n",
       "       'fields': {'type': 'text'},\n",
       "       'intervalName': {'type': 'keyword'},\n",
       "       'notExpandable': {'type': 'boolean'},\n",
       "       'sourceFilters': {'type': 'text'},\n",
       "       'timeFieldName': {'type': 'keyword'},\n",
       "       'title': {'type': 'text'}}},\n",
       "     'search': {'properties': {'columns': {'type': 'keyword'},\n",
       "       'description': {'type': 'text'},\n",
       "       'hits': {'type': 'integer'},\n",
       "       'kibanaSavedObjectMeta': {'properties': {'searchSourceJSON': {'type': 'text'}}},\n",
       "       'sort': {'type': 'keyword'},\n",
       "       'title': {'type': 'text'},\n",
       "       'version': {'type': 'integer'}}},\n",
       "     'server': {'properties': {'uuid': {'type': 'keyword'}}},\n",
       "     'timelion-sheet': {'properties': {'description': {'type': 'text'},\n",
       "       'hits': {'type': 'integer'},\n",
       "       'kibanaSavedObjectMeta': {'properties': {'searchSourceJSON': {'type': 'text'}}},\n",
       "       'timelion_chart_height': {'type': 'integer'},\n",
       "       'timelion_columns': {'type': 'integer'},\n",
       "       'timelion_interval': {'type': 'keyword'},\n",
       "       'timelion_other_interval': {'type': 'keyword'},\n",
       "       'timelion_rows': {'type': 'integer'},\n",
       "       'timelion_sheet': {'type': 'text'},\n",
       "       'title': {'type': 'text'},\n",
       "       'version': {'type': 'integer'}}},\n",
       "     'type': {'type': 'keyword'},\n",
       "     'updated_at': {'type': 'date'},\n",
       "     'url': {'properties': {'accessCount': {'type': 'long'},\n",
       "       'accessDate': {'type': 'date'},\n",
       "       'createDate': {'type': 'date'},\n",
       "       'url': {'fields': {'keyword': {'ignore_above': 2048,\n",
       "          'type': 'keyword'}},\n",
       "        'type': 'text'}}},\n",
       "     'visualization': {'properties': {'description': {'type': 'text'},\n",
       "       'kibanaSavedObjectMeta': {'properties': {'searchSourceJSON': {'type': 'text'}}},\n",
       "       'savedSearchId': {'type': 'keyword'},\n",
       "       'title': {'type': 'text'},\n",
       "       'uiStateJSON': {'type': 'text'},\n",
       "       'version': {'type': 'integer'},\n",
       "       'visState': {'type': 'text'}}}}}},\n",
       "  'settings': {'index': {'creation_date': '1511145512480',\n",
       "    'mapper': {'dynamic': 'false'},\n",
       "    'number_of_replicas': '1',\n",
       "    'number_of_shards': '1',\n",
       "    'provided_name': 'rrvarra.kibana_k6',\n",
       "    'uuid': '-4NmE20SSuSKrWVutoUo_g',\n",
       "    'version': {'created': '6000099'}}}}}"
      ]
     },
     "execution_count": 51,
     "metadata": {},
     "output_type": "execute_result"
    }
   ],
   "source": [
    "es.indices.get(index=index)"
   ]
  },
  {
   "cell_type": "code",
   "execution_count": 48,
   "metadata": {},
   "outputs": [
    {
     "data": {
      "text/plain": [
       "{'rrvarra.kibana_k6': {'aliases': {},\n",
       "  'mappings': {'doc': {'properties': {'config': {'properties': {'buildNum': {'type': 'keyword'},\n",
       "       'defaultIndex': {'fields': {'keyword': {'ignore_above': 256,\n",
       "          'type': 'keyword'}},\n",
       "        'type': 'text'}}},\n",
       "     'dashboard': {'properties': {'description': {'type': 'text'},\n",
       "       'hits': {'type': 'integer'},\n",
       "       'kibanaSavedObjectMeta': {'properties': {'searchSourceJSON': {'type': 'text'}}},\n",
       "       'optionsJSON': {'type': 'text'},\n",
       "       'panelsJSON': {'type': 'text'},\n",
       "       'refreshInterval': {'properties': {'display': {'type': 'keyword'},\n",
       "         'pause': {'type': 'boolean'},\n",
       "         'section': {'type': 'integer'},\n",
       "         'value': {'type': 'integer'}}},\n",
       "       'timeFrom': {'type': 'keyword'},\n",
       "       'timeRestore': {'type': 'boolean'},\n",
       "       'timeTo': {'type': 'keyword'},\n",
       "       'title': {'type': 'text'},\n",
       "       'uiStateJSON': {'type': 'text'},\n",
       "       'version': {'type': 'integer'}}},\n",
       "     'graph-workspace': {'properties': {'description': {'type': 'text'},\n",
       "       'kibanaSavedObjectMeta': {'properties': {'searchSourceJSON': {'type': 'text'}}},\n",
       "       'numLinks': {'type': 'integer'},\n",
       "       'numVertices': {'type': 'integer'},\n",
       "       'title': {'type': 'text'},\n",
       "       'version': {'type': 'integer'},\n",
       "       'wsState': {'type': 'text'}}},\n",
       "     'index-pattern': {'properties': {'fieldFormatMap': {'type': 'text'},\n",
       "       'fields': {'type': 'text'},\n",
       "       'intervalName': {'type': 'keyword'},\n",
       "       'notExpandable': {'type': 'boolean'},\n",
       "       'sourceFilters': {'type': 'text'},\n",
       "       'timeFieldName': {'type': 'keyword'},\n",
       "       'title': {'type': 'text'}}},\n",
       "     'search': {'properties': {'columns': {'type': 'keyword'},\n",
       "       'description': {'type': 'text'},\n",
       "       'hits': {'type': 'integer'},\n",
       "       'kibanaSavedObjectMeta': {'properties': {'searchSourceJSON': {'type': 'text'}}},\n",
       "       'sort': {'type': 'keyword'},\n",
       "       'title': {'type': 'text'},\n",
       "       'version': {'type': 'integer'}}},\n",
       "     'server': {'properties': {'uuid': {'type': 'keyword'}}},\n",
       "     'timelion-sheet': {'properties': {'description': {'type': 'text'},\n",
       "       'hits': {'type': 'integer'},\n",
       "       'kibanaSavedObjectMeta': {'properties': {'searchSourceJSON': {'type': 'text'}}},\n",
       "       'timelion_chart_height': {'type': 'integer'},\n",
       "       'timelion_columns': {'type': 'integer'},\n",
       "       'timelion_interval': {'type': 'keyword'},\n",
       "       'timelion_other_interval': {'type': 'keyword'},\n",
       "       'timelion_rows': {'type': 'integer'},\n",
       "       'timelion_sheet': {'type': 'text'},\n",
       "       'title': {'type': 'text'},\n",
       "       'version': {'type': 'integer'}}},\n",
       "     'type': {'type': 'keyword'},\n",
       "     'updated_at': {'type': 'date'},\n",
       "     'url': {'properties': {'accessCount': {'type': 'long'},\n",
       "       'accessDate': {'type': 'date'},\n",
       "       'createDate': {'type': 'date'},\n",
       "       'url': {'fields': {'keyword': {'ignore_above': 2048,\n",
       "          'type': 'keyword'}},\n",
       "        'type': 'text'}}},\n",
       "     'visualization': {'properties': {'description': {'type': 'text'},\n",
       "       'kibanaSavedObjectMeta': {'properties': {'searchSourceJSON': {'type': 'text'}}},\n",
       "       'savedSearchId': {'type': 'keyword'},\n",
       "       'title': {'type': 'text'},\n",
       "       'uiStateJSON': {'type': 'text'},\n",
       "       'version': {'type': 'integer'},\n",
       "       'visState': {'type': 'text'}}}}}},\n",
       "  'settings': {'index': {'creation_date': '1511145512480',\n",
       "    'mapper': {'dynamic': 'false'},\n",
       "    'number_of_replicas': '1',\n",
       "    'number_of_shards': '1',\n",
       "    'provided_name': 'rrvarra.kibana_k6',\n",
       "    'uuid': '-4NmE20SSuSKrWVutoUo_g',\n",
       "    'version': {'created': '6000099'}}}}}"
      ]
     },
     "execution_count": 48,
     "metadata": {},
     "output_type": "execute_result"
    }
   ],
   "source": [
    "es.indices.get(index=kibana6_index)"
   ]
  },
  {
   "cell_type": "code",
   "execution_count": 44,
   "metadata": {},
   "outputs": [
    {
     "data": {
      "text/plain": [
       "datetime.datetime(2017, 11, 19, 19, 56, 35, 367000)"
      ]
     },
     "execution_count": 44,
     "metadata": {},
     "output_type": "execute_result"
    }
   ],
   "source": [
    "datetime.datetime.fromtimestamp(1511146595367/1000)"
   ]
  },
  {
   "cell_type": "code",
   "execution_count": null,
   "metadata": {
    "collapsed": true
   },
   "outputs": [],
   "source": []
  }
 ],
 "metadata": {
  "kernelspec": {
   "display_name": "Python 3",
   "language": "python",
   "name": "python3"
  },
  "language_info": {
   "codemirror_mode": {
    "name": "ipython",
    "version": 3
   },
   "file_extension": ".py",
   "mimetype": "text/x-python",
   "name": "python",
   "nbconvert_exporter": "python",
   "pygments_lexer": "ipython3",
   "version": "3.6.3"
  }
 },
 "nbformat": 4,
 "nbformat_minor": 2
}
