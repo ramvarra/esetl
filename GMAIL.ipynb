{
 "cells": [
  {
   "cell_type": "code",
   "execution_count": 1,
   "metadata": {
    "collapsed": true
   },
   "outputs": [],
   "source": [
    "import os, sys, re\n",
    "import smtplib\n",
    "\n",
    "import socket\n",
    "import keyring\n",
    "import datetime\n",
    "from email.mime.text import MIMEText\n",
    "import email"
   ]
  },
  {
   "cell_type": "code",
   "execution_count": null,
   "metadata": {
    "collapsed": true
   },
   "outputs": [],
   "source": []
  },
  {
   "cell_type": "code",
   "execution_count": 2,
   "metadata": {},
   "outputs": [
    {
     "name": "stdout",
     "output_type": "stream",
     "text": [
      "Please enter password for encrypted keyring: ········\n"
     ]
    }
   ],
   "source": [
    "pwd = keyring.get_password('smtp_gmail', 'ramvarra@gmail.com') "
   ]
  },
  {
   "cell_type": "code",
   "execution_count": 3,
   "metadata": {
    "collapsed": true
   },
   "outputs": [],
   "source": [
    "\n",
    "msg = MIMEText(\"This is test email body sent using MIMEText\")\n",
    "msg['To'] = email.utils.COMMASPACE.join(['ramvarra@gmail.com', 'ramvarra@hotmail.com'])\n",
    "msg['From'] = 'ramvarra@gmail.com'\n",
    "\n",
    "ts = datetime.datetime.now().strftime('%Y-%m-%d %H:%M:%S')\n",
    "msg['Subject'] =  ts + \" : Test email from \" + socket.gethostname()\n",
    "\n",
    "with smtplib.SMTP_SSL('smtp.gmail.com', 465) as server:\n",
    "    server.ehlo()\n",
    "    server.login('ramvarra@gmail.com', pwd)\n",
    "    ret = server.send_message(msg)\n",
    "    \n",
    "#server.close()"
   ]
  },
  {
   "cell_type": "code",
   "execution_count": null,
   "metadata": {
    "collapsed": true
   },
   "outputs": [],
   "source": []
  }
 ],
 "metadata": {
  "kernelspec": {
   "display_name": "Python 3",
   "language": "python",
   "name": "python3"
  },
  "language_info": {
   "codemirror_mode": {
    "name": "ipython",
    "version": 3
   },
   "file_extension": ".py",
   "mimetype": "text/x-python",
   "name": "python",
   "nbconvert_exporter": "python",
   "pygments_lexer": "ipython3",
   "version": "3.6.1"
  }
 },
 "nbformat": 4,
 "nbformat_minor": 2
}
